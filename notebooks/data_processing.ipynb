{
 "cells": [
  {
   "cell_type": "markdown",
   "id": "a9e1b042",
   "metadata": {},
   "source": [
    "# Data Processing for Persuasion Detection\n",
    "\n",
    "This notebook demonstrates the process of preparing and processing data for the persuasion detection project. The workflow includes importing necessary modules, exploring the data structure, and wrapping annotated spans in the articles for further analysis."
   ]
  },
  {
   "cell_type": "markdown",
   "id": "2ff332f3",
   "metadata": {},
   "source": [
    "## Importing Required Modules\n",
    "\n",
    "First, we set up the environment by importing essential libraries and ensuring that our custom scripts are accessible. This allows us to use utility functions for data processing."
   ]
  },
  {
   "cell_type": "code",
   "execution_count": 2,
   "id": "db6ad18a",
   "metadata": {},
   "outputs": [],
   "source": [
    "# Add the parent directory to sys.path so data_processing can be imported\n",
    "import os\n",
    "import sys\n",
    "\n",
    "sys.path.append('../scripts')  # adjust path as needed"
   ]
  },
  {
   "cell_type": "code",
   "execution_count": 2,
   "id": "887a4ab4",
   "metadata": {},
   "outputs": [],
   "source": [
    "from data_processing.wrap import wrap_spans_from_file, print_span"
   ]
  },
  {
   "cell_type": "markdown",
   "id": "088f6d9e",
   "metadata": {},
   "source": [
    "## Exploring Annotated Spans\n",
    "\n",
    "We can inspect specific annotated spans within the dataset to verify the annotation quality and understand the data format."
   ]
  },
  {
   "cell_type": "code",
   "execution_count": 3,
   "id": "c8f918e6",
   "metadata": {},
   "outputs": [
    {
     "name": "stdout",
     "output_type": "stream",
     "text": [
      "Ce pays est foutu \n"
     ]
    }
   ],
   "source": [
    "# print the span from the article 2318 inside the fr folder that between 3470 and 3505\n",
    "print_span(2318, 4045, 4063, 'fr', base_path='../data/raw')"
   ]
  },
  {
   "cell_type": "markdown",
   "id": "7814b644",
   "metadata": {},
   "source": [
    "## Preparing Directories for Processing\n",
    "\n",
    "We define the paths for the raw and processed data directories. This ensures that our scripts can locate the input files and save the processed outputs in the correct locations."
   ]
  },
  {
   "cell_type": "code",
   "execution_count": 4,
   "id": "da761624",
   "metadata": {},
   "outputs": [],
   "source": [
    "import glob\n",
    "import os\n",
    "\n",
    "RAW_DIR = '../data/raw'\n",
    "PROCESSED_DIR = '../data/processed'"
   ]
  },
  {
   "cell_type": "markdown",
   "id": "353ea8eb",
   "metadata": {},
   "source": [
    "## Wrapping Annotated Spans in Articles\n",
    "\n",
    "The following code iterates through each language directory in the raw data folder, locates the annotation files, and wraps the annotated spans in the corresponding articles. The processed articles are saved in the output directory for each language."
   ]
  },
  {
   "cell_type": "code",
   "execution_count": 5,
   "id": "2aca169a",
   "metadata": {},
   "outputs": [
    {
     "name": "stdout",
     "output_type": "stream",
     "text": [
      "Processing language: ru\n",
      "  Labels file found: ../data/raw/ru/train-labels-subtask-3-spans.txt\n",
      "  Articles folder: ../data/raw/ru/train-articles-subtask-3\n",
      "  Output folder: ../data/processed/ru/wrapped-articles\n",
      "  Finished wrapping spans for ru.\n",
      "---\n",
      "Processing language: sl\n",
      "  Labels file not found for sl, skipping.\n",
      "---\n",
      "Processing language: it\n",
      "  Labels file found: ../data/raw/it/train-labels-subtask-3-spans.txt\n",
      "  Articles folder: ../data/raw/it/train-articles-subtask-3\n",
      "  Output folder: ../data/processed/it/wrapped-articles\n",
      "  Finished wrapping spans for it.\n",
      "---\n",
      "Processing language: en\n",
      "  Labels file found: ../data/raw/en/train-labels-subtask-3-spans.txt\n",
      "  Articles folder: ../data/raw/en/train-articles-subtask-3\n",
      "  Output folder: ../data/processed/en/wrapped-articles\n",
      "  Finished wrapping spans for en.\n",
      "---\n",
      "Processing language: es\n",
      "  Labels file not found for es, skipping.\n",
      "---\n",
      "Processing language: po\n",
      "  Labels file found: ../data/raw/po/train-labels-subtask-3-spans.txt\n",
      "  Articles folder: ../data/raw/po/train-articles-subtask-3\n",
      "  Output folder: ../data/processed/po/wrapped-articles\n",
      "  Finished wrapping spans for po.\n",
      "---\n",
      "Processing language: ka\n",
      "  Labels file not found for ka, skipping.\n",
      "---\n",
      "Processing language: ar\n",
      "  Labels file not found for ar, skipping.\n",
      "---\n",
      "Processing language: ge\n",
      "  Labels file found: ../data/raw/ge/train-labels-subtask-3-spans.txt\n",
      "  Articles folder: ../data/raw/ge/train-articles-subtask-3\n",
      "  Output folder: ../data/processed/ge/wrapped-articles\n",
      "  Finished wrapping spans for ge.\n",
      "---\n",
      "Processing language: bg\n",
      "  Labels file not found for bg, skipping.\n",
      "---\n",
      "Processing language: fr\n",
      "  Labels file found: ../data/raw/fr/train-labels-subtask-3-spans.txt\n",
      "  Articles folder: ../data/raw/fr/train-articles-subtask-3\n",
      "  Output folder: ../data/processed/fr/wrapped-articles\n",
      "  Finished wrapping spans for fr.\n",
      "---\n",
      "Processing language: gr\n",
      "  Labels file not found for gr, skipping.\n",
      "---\n",
      "Processing language: pt\n",
      "  Labels file not found for pt, skipping.\n",
      "---\n",
      "Processing complete.\n"
     ]
    }
   ],
   "source": [
    "# Iterate through language directories in the raw data folder\n",
    "for lang_dir in os.listdir(RAW_DIR):\n",
    "    lang_path = os.path.join(RAW_DIR, lang_dir)\n",
    "    if os.path.isdir(lang_path):\n",
    "        language_code = lang_dir\n",
    "        print(f\"Processing language: {language_code}\")\n",
    "\n",
    "        # Define paths for the current language\n",
    "        labels_file = os.path.join(lang_path, 'train-labels-subtask-3-spans.txt')\n",
    "        articles_folder = os.path.join(lang_path, 'train-articles-subtask-3')\n",
    "        output_folder = os.path.join(PROCESSED_DIR, language_code, 'wrapped-articles')\n",
    "\n",
    "        # Check if the labels file exists for this language\n",
    "        if os.path.exists(labels_file):\n",
    "            print(f\"  Labels file found: {labels_file}\")\n",
    "            print(f\"  Articles folder: {articles_folder}\")\n",
    "            print(f\"  Output folder: {output_folder}\")\n",
    "\n",
    "            # Ensure the output directory exists\n",
    "            os.makedirs(output_folder, exist_ok=True)\n",
    "\n",
    "            # Wrap spans for the current language\n",
    "            wrap_spans_from_file(\n",
    "                labels_file=labels_file,\n",
    "                articles_folder=articles_folder,\n",
    "                output_folder=output_folder,\n",
    "                lang=language_code\n",
    "            )\n",
    "            print(f\"  Finished wrapping spans for {language_code}.\")\n",
    "        else:\n",
    "            print(f\"  Labels file not found for {language_code}, skipping.\")\n",
    "        print(\"---\")\n",
    "\n",
    "print(\"Processing complete.\")"
   ]
  },
  {
   "cell_type": "markdown",
   "id": "a2b50a5b",
   "metadata": {},
   "source": [
    "## Summary\n",
    "\n",
    "This notebook provided an overview of the data processing steps for the persuasion detection project, including importing modules, inspecting data, and preparing processed datasets for further analysis."
   ]
  }
 ],
 "metadata": {
  "kernelspec": {
   "display_name": ".venv",
   "language": "python",
   "name": "python3"
  },
  "language_info": {
   "codemirror_mode": {
    "name": "ipython",
    "version": 3
   },
   "file_extension": ".py",
   "mimetype": "text/x-python",
   "name": "python",
   "nbconvert_exporter": "python",
   "pygments_lexer": "ipython3",
   "version": "3.12.3"
  }
 },
 "nbformat": 4,
 "nbformat_minor": 5
}
